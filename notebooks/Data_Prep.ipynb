{
 "cells": [
  {
   "cell_type": "code",
   "execution_count": 1,
   "metadata": {},
   "outputs": [],
   "source": [
    "import pandas as pd\n",
    "import numpy as np\n",
    "import os\n",
    "import matplotlib.pyplot as plt"
   ]
  },
  {
   "cell_type": "code",
   "execution_count": 2,
   "metadata": {},
   "outputs": [],
   "source": [
    "df = pd.read_csv('../data/toxic_comments.csv', engine='python')"
   ]
  },
  {
   "cell_type": "code",
   "execution_count": 3,
   "metadata": {},
   "outputs": [],
   "source": [
    "all_comments = pd.read_csv('../data/train.csv', engine='python')"
   ]
  },
  {
   "cell_type": "code",
   "execution_count": 4,
   "metadata": {},
   "outputs": [
    {
     "name": "stdout",
     "output_type": "stream",
     "text": [
      "Unnamed: 0                               int64\n",
      "id                                       int64\n",
      "target                                 float64\n",
      "comment_text                            object\n",
      "severe_toxicity                        float64\n",
      "obscene                                float64\n",
      "identity_attack                        float64\n",
      "insult                                 float64\n",
      "threat                                 float64\n",
      "asian                                  float64\n",
      "atheist                                float64\n",
      "bisexual                               float64\n",
      "black                                  float64\n",
      "buddhist                               float64\n",
      "christian                              float64\n",
      "female                                 float64\n",
      "heterosexual                           float64\n",
      "hindu                                  float64\n",
      "homosexual_gay_or_lesbian              float64\n",
      "intellectual_or_learning_disability    float64\n",
      "jewish                                 float64\n",
      "latino                                 float64\n",
      "male                                   float64\n",
      "muslim                                 float64\n",
      "other_disability                       float64\n",
      "other_gender                           float64\n",
      "other_race_or_ethnicity                float64\n",
      "other_religion                         float64\n",
      "other_sexual_orientation               float64\n",
      "physical_disability                    float64\n",
      "psychiatric_or_mental_illness          float64\n",
      "transgender                            float64\n",
      "white                                  float64\n",
      "created_date                            object\n",
      "publication_id                           int64\n",
      "parent_id                              float64\n",
      "article_id                               int64\n",
      "rating                                  object\n",
      "funny                                    int64\n",
      "wow                                      int64\n",
      "sad                                      int64\n",
      "likes                                    int64\n",
      "disagree                                 int64\n",
      "sexual_explicit                        float64\n",
      "identity_annotator_count                 int64\n",
      "toxicity_annotator_count                 int64\n",
      "dtype: object\n"
     ]
    }
   ],
   "source": [
    "print(df.dtypes)"
   ]
  },
  {
   "cell_type": "code",
   "execution_count": 5,
   "metadata": {},
   "outputs": [
    {
     "name": "stdout",
     "output_type": "stream",
     "text": [
      "0                 haha you guys are a bunch of losers.\n",
      "1                                 ur a sh*tty comment.\n",
      "2    It's ridiculous that these guys are being call...\n",
      "3    This story gets more ridiculous by the hour! A...\n",
      "4    Angry trolls, misogynists and Racists\", oh my....\n",
      "Name: comment_text, dtype: object\n"
     ]
    }
   ],
   "source": [
    "comment = df['comment_text']\n",
    "print(comment.head())\n",
    "comment = comment.values"
   ]
  },
  {
   "cell_type": "code",
   "execution_count": 6,
   "metadata": {},
   "outputs": [
    {
     "name": "stdout",
     "output_type": "stream",
     "text": [
      "0    This is so cool. It's like, 'would you want yo...\n",
      "1    Thank you!! This would make my life a lot less...\n",
      "2    This is such an urgent design problem; kudos t...\n",
      "3    Is this something I'll be able to install on m...\n",
      "7                                  FFFFUUUUUUUUUUUUUUU\n",
      "Name: comment_text, dtype: object\n"
     ]
    }
   ],
   "source": [
    "good_comment = all_comments[all_comments['target'] == 0.0]\n",
    "good_comment = good_comment['comment_text']\n",
    "print(good_comment.head())\n",
    "good_comment = good_comment.values"
   ]
  },
  {
   "cell_type": "code",
   "execution_count": 7,
   "metadata": {},
   "outputs": [
    {
     "name": "stdout",
     "output_type": "stream",
     "text": [
      "   severe_toxicity   obscene  threat    insult  identity_attack\n",
      "0         0.021277  0.000000     0.0  0.872340         0.021277\n",
      "1         0.047619  0.638095     0.0  0.333333         0.000000\n",
      "2         0.000000  0.100000     0.1  0.600000         0.000000\n",
      "3         0.000000  0.000000     0.0  0.300000         0.000000\n",
      "4         0.000000  0.000000     0.0  0.500000         0.100000\n"
     ]
    }
   ],
   "source": [
    "label = df[['severe_toxicity' , 'obscene' , 'threat' , 'insult' , 'identity_attack']]\n",
    "print(label.head())\n",
    "label = label.values"
   ]
  },
  {
   "cell_type": "code",
   "execution_count": 8,
   "metadata": {},
   "outputs": [
    {
     "name": "stdout",
     "output_type": "stream",
     "text": [
      "average length of comment: 277.613\n"
     ]
    },
    {
     "data": {
      "image/png": "[encoded data removed]",
      "text/plain": [
       "<Figure size 432x288 with 1 Axes>"
      ]
     },
     "metadata": {
      "needs_background": "light"
     },
     "output_type": "display_data"
    }
   ],
   "source": [
    "x = [len(comment[i]) for i in range(comment.shape[0])]\n",
    "\n",
    "print('average length of comment: {:.3f}'.format(sum(x)/len(x)) )\n",
    "bins = [1,200,400,600,800,1000,1200]\n",
    "plt.hist(x, bins=bins)\n",
    "plt.xlabel('Length of comments')\n",
    "plt.ylabel('Number of comments')       \n",
    "plt.axis([0, 1200, 0, 80000])\n",
    "plt.grid(True)\n",
    "plt.show()"
   ]
  },
  {
   "cell_type": "code",
   "execution_count": 9,
   "metadata": {},
   "outputs": [
    {
     "name": "stdout",
     "output_type": "stream",
     "text": [
      "average length of comment: 287.529\n"
     ]
    },
    {
     "data": {
      "image/png": "[encoded data removed]",
      "text/plain": [
       "<Figure size 432x288 with 1 Axes>"
      ]
     },
     "metadata": {
      "needs_background": "light"
     },
     "output_type": "display_data"
    }
   ],
   "source": [
    "x = [len(good_comment[i]) for i in range(good_comment.shape[0])]\n",
    "\n",
    "print('average length of comment: {:.3f}'.format(sum(x)/len(x)) )\n",
    "bins = [1,200,400,600,800,1000,1200]\n",
    "plt.hist(x, bins=bins)\n",
    "plt.xlabel('Length of comments')\n",
    "plt.ylabel('Number of comments')       \n",
    "plt.axis([0, 1500, 0, 700000])\n",
    "plt.grid(True)\n",
    "plt.show()"
   ]
  },
  {
   "cell_type": "code",
   "execution_count": 10,
   "metadata": {},
   "outputs": [
    {
     "data": {
      "image/png": "[encoded data removed]",
      "text/plain": [
       "<Figure size 432x288 with 1 Axes>"
      ]
     },
     "metadata": {
      "needs_background": "light"
     },
     "output_type": "display_data"
    }
   ],
   "source": [
    "y = np.zeros(label.shape)\n",
    "for ix in range(comment.shape[0]):\n",
    "    l = len(comment[ix])\n",
    "    if label[ix][0] :\n",
    "        y[ix][0] = l\n",
    "    if label[ix][1] :\n",
    "        y[ix][1] = l\n",
    "    if label[ix][2] :\n",
    "        y[ix][2] = l\n",
    "    if label[ix][3] :\n",
    "        y[ix][3] = l\n",
    "    if label[ix][4] :\n",
    "        y[ix][4] = l\n",
    "\n",
    "labelsplt = ['severe_toxicity' , 'obscene' , 'threat' , 'insult' , 'identity_attack']\n",
    "color = ['red','green','blue','yellow','orange']        \n",
    "plt.hist(y,bins = bins,label = labelsplt,color = color)\n",
    "plt.axis([0, 1200, 0, 80000])\n",
    "plt.xlabel('Length of comments')\n",
    "plt.ylabel('Number of comments') \n",
    "plt.legend()\n",
    "plt.grid(True)\n",
    "plt.show()"
   ]
  },
  {
   "cell_type": "markdown",
   "metadata": {},
   "source": [
    "## Trimming our data\n",
    "More data isn't always the best for Machine Learning. Excess data can increase time to train but decrease accuracy. Lets see how many comments we have."
   ]
  },
  {
   "cell_type": "code",
   "execution_count": 11,
   "metadata": {},
   "outputs": [
    {
     "name": "stdout",
     "output_type": "stream",
     "text": [
      "Total toxic comments: 144334\n",
      "Total non-toxic comments: 1264764\n"
     ]
    }
   ],
   "source": [
    "comments = []\n",
    "good_comments = []\n",
    "labels = []\n",
    "\n",
    "for ix in range(comment.shape[0]):\n",
    "    comments.append(comment[ix])\n",
    "    labels.append(label[ix])\n",
    "for ix in range(good_comment.shape[0]):\n",
    "    good_comments.append(good_comment[ix])\n",
    "\n",
    "labels = np.asarray(labels)\n",
    "long_comments = len(comments)\n",
    "long_gcomments = len(good_comments)\n",
    "print(\"Total toxic comments: \" + str(long_comments))\n",
    "print(\"Total non-toxic comments: \" + str(long_gcomments))"
   ]
  },
  {
   "cell_type": "markdown",
   "metadata": {},
   "source": [
    "Let's see how many comments we'd have if we limited comments to 400 characters"
   ]
  },
  {
   "cell_type": "code",
   "execution_count": 12,
   "metadata": {},
   "outputs": [
    {
     "name": "stdout",
     "output_type": "stream",
     "text": [
      "Total toxic comments: 111634\n",
      "Total non-toxic comments: 948942\n"
     ]
    }
   ],
   "source": [
    "comments = []\n",
    "good_comments = []\n",
    "labels = []\n",
    "\n",
    "for ix in range(comment.shape[0]):\n",
    "    if len(comment[ix])<=400:\n",
    "        comments.append(comment[ix])\n",
    "        labels.append(label[ix])\n",
    "        \n",
    "for ix in range(good_comment.shape[0]):\n",
    "    if len(good_comment[ix])<=400:\n",
    "        good_comments.append(good_comment[ix])\n",
    "\n",
    "        \n",
    "labels = np.asarray(labels)\n",
    "short_comments = len(comments)\n",
    "short_gcomments = len(good_comments)\n",
    "print(\"Total toxic comments: \" + str(short_comments))\n",
    "print(\"Total non-toxic comments: \" + str(short_gcomments))"
   ]
  },
  {
   "cell_type": "markdown",
   "metadata": {},
   "source": [
    "By limiting our character count, it seems that we only removed:"
   ]
  },
  {
   "cell_type": "code",
   "execution_count": 13,
   "metadata": {},
   "outputs": [
    {
     "name": "stdout",
     "output_type": "stream",
     "text": [
      "32700 toxic comments\n",
      "315822 non-toxic comments\n"
     ]
    }
   ],
   "source": [
    "print (str(long_comments - short_comments) + \" toxic comments\")\n",
    "print (str(long_gcomments - short_gcomments) + \" non-toxic comments\")"
   ]
  },
  {
   "cell_type": "markdown",
   "metadata": {},
   "source": [
    "This means we still retained:"
   ]
  },
  {
   "cell_type": "code",
   "execution_count": 14,
   "metadata": {
    "scrolled": true
   },
   "outputs": [
    {
     "name": "stdout",
     "output_type": "stream",
     "text": [
      "77.34% of our toxic comments\n",
      "75.03% of our toxic comments\n"
     ]
    }
   ],
   "source": [
    "print (\"%0.2f\" % (short_comments / long_comments * 100) + \"% of our toxic comments\" )\n",
    "print (\"%0.2f\" % (short_gcomments / long_gcomments * 100) + \"% of our toxic comments\" )"
   ]
  },
  {
   "cell_type": "markdown",
   "metadata": {},
   "source": [
    "## Preparing the Data"
   ]
  },
  {
   "cell_type": "markdown",
   "metadata": {},
   "source": [
    "Since we don't care about punctuation, let's get rid of it. Let's take a look at what python considers punctuation."
   ]
  },
  {
   "cell_type": "code",
   "execution_count": 15,
   "metadata": {},
   "outputs": [
    {
     "name": "stdout",
     "output_type": "stream",
     "text": [
      "!\"#$%&'()*+,-./:;<=>?@[\\]^_`{|}~\n"
     ]
    }
   ],
   "source": [
    "import string\n",
    "print(string.punctuation)"
   ]
  },
  {
   "cell_type": "markdown",
   "metadata": {},
   "source": [
    "Seem's like a good start. Let's add more things we'd want to ignore"
   ]
  },
  {
   "cell_type": "code",
   "execution_count": 16,
   "metadata": {},
   "outputs": [
    {
     "name": "stdout",
     "output_type": "stream",
     "text": [
      "!\"#$%&()*+,-./:;<=>?@[\\]^_`{|}~0123456789\n"
     ]
    }
   ],
   "source": [
    "punctuation_edit = string.punctuation.replace('\\'','')+\"0123456789\"\n",
    "print (punctuation_edit)"
   ]
  },
  {
   "cell_type": "markdown",
   "metadata": {},
   "source": [
    "Let's map each character in the punctuation_edit into the character at the same position in the outtab string with maketrans() i.e. it replaces every character in the removal list with a space, since outtab contains a string with spaces."
   ]
  },
  {
   "cell_type": "code",
   "execution_count": 17,
   "metadata": {},
   "outputs": [],
   "source": [
    "outtab = \"                                         \"\n",
    "trantab = str.maketrans(punctuation_edit, outtab)"
   ]
  },
  {
   "cell_type": "markdown",
   "metadata": {},
   "source": [
    "Now we don't don't care about common words either. Python knows these words as \"stop_words\""
   ]
  },
  {
   "cell_type": "code",
   "execution_count": 40,
   "metadata": {},
   "outputs": [
    {
     "name": "stdout",
     "output_type": "stream",
     "text": [
      "['a', 'about', 'above', 'after', 'again', 'against', 'all', 'am', 'an', 'and', 'any', 'are', \"aren't\", 'as', 'at', 'be', 'because', 'been', 'before', 'being', 'below', 'between', 'both', 'but', 'by', \"can't\", 'cannot', 'could', \"couldn't\", 'did', \"didn't\", 'do', 'does', \"doesn't\", 'doing', \"don't\", 'down', 'during', 'each', 'few', 'for', 'from', 'further', 'had', \"hadn't\", 'has', \"hasn't\", 'have', \"haven't\", 'having', 'he', \"he'd\", \"he'll\", \"he's\", 'her', 'here', \"here's\", 'hers', 'herself', 'him', 'himself', 'his', 'how', \"how's\", 'i', \"i'd\", \"i'll\", \"i'm\", \"i've\", 'if', 'in', 'into', 'is', \"isn't\", 'it', \"it's\", 'its', 'itself', \"let's\", 'me', 'more', 'most', \"mustn't\", 'my', 'myself', 'no', 'nor', 'not', 'of', 'off', 'on', 'once', 'only', 'or', 'other', 'ought', 'our', 'ours', 'ourselves', 'out', 'over', 'own', 'same', \"shan't\", 'she', \"she'd\", \"she'll\", \"she's\", 'should', \"shouldn't\", 'so', 'some', 'such', 'than', 'that', \"that's\", 'the', 'their', 'theirs', 'them', 'themselves', 'then', 'there', \"there's\", 'these', 'they', \"they'd\", \"they'll\", \"they're\", \"they've\", 'this', 'those', 'through', 'to', 'too', 'under', 'until', 'up', 'very', 'was', \"wasn't\", 'we', \"we'd\", \"we'll\", \"we're\", \"we've\", 'were', \"weren't\", 'what', \"what's\", 'when', \"when's\", 'where', \"where's\", 'which', 'while', 'who', \"who's\", 'whom', 'why', \"why's\", 'with', \"won't\", 'would', \"wouldn't\", 'you', \"you'd\", \"you'll\", \"you're\", \"you've\", 'your', 'yours', 'yourself', 'yourselves', '', 'b', 'c', 'd', 'e', 'f', 'g', 'h', 'i', 'j', 'k', 'l', 'm', 'n', 'o', 'p', 'q', 'r', 's', 't', 'u', 'v', 'w', 'x', 'y', 'z', '', 'b', 'c', 'd', 'e', 'f', 'g', 'h', 'i', 'j', 'k', 'l', 'm', 'n', 'o', 'p', 'q', 'r', 's', 't', 'u', 'v', 'w', 'x', 'y', 'z', '', 'b', 'c', 'd', 'e', 'f', 'g', 'h', 'i', 'j', 'k', 'l', 'm', 'n', 'o', 'p', 'q', 'r', 's', 't', 'u', 'v', 'w', 'x', 'y', 'z']\n"
     ]
    }
   ],
   "source": [
    "from stop_words import get_stop_words\n",
    "stop_words = get_stop_words('english')\n",
    "stop_words.append('')\n",
    "\n",
    "for x in range(ord('b'), ord('z')+1):\n",
    "    stop_words.append(chr(x))\n",
    "\n",
    "print (stop_words)"
   ]
  },
  {
   "cell_type": "markdown",
   "metadata": {},
   "source": [
    "With our list of good comments, let's add those words (which did not increase the toxicity) to our list of stop words. This means we will ignore these words if they appear in our toxic words."
   ]
  },
  {
   "cell_type": "code",
   "execution_count": 41,
   "metadata": {},
   "outputs": [],
   "source": [
    "for i in range(len(good_comments)):\n",
    "    good_comments[i] = good_comments[i].lower().translate(trantab)"
   ]
  },
  {
   "cell_type": "code",
   "execution_count": 42,
   "metadata": {},
   "outputs": [
    {
     "name": "stdout",
     "output_type": "stream",
     "text": [
      "this is so cool  it's like  'would you want your mother to read this  ' really great idea  well done \n",
      "thank you   this would make my life a lot less anxiety inducing  keep it up  and don't let anyone get in your way \n",
      "this is such an urgent design problem  kudos to you for taking it on  very impressive \n"
     ]
    }
   ],
   "source": [
    "print(good_comments[0])\n",
    "print(good_comments[1])\n",
    "print(good_comments[2])"
   ]
  },
  {
   "cell_type": "markdown",
   "metadata": {},
   "source": [
    "These seem like pretty harmless comments. So that's good!\n",
    "\n",
    "Let's put these words in an array."
   ]
  },
  {
   "cell_type": "code",
   "execution_count": 43,
   "metadata": {},
   "outputs": [
    {
     "name": "stdout",
     "output_type": "stream",
     "text": [
      "['this', 'is', 'so']\n"
     ]
    }
   ],
   "source": [
    "good_words = []\n",
    "for entry in good_comments:\n",
    "    for word in entry.split():\n",
    "        good_words.append(word)\n",
    "print(good_words[0:3])"
   ]
  },
  {
   "cell_type": "markdown",
   "metadata": {},
   "source": [
    "Now we can add these words to our stop words"
   ]
  },
  {
   "cell_type": "code",
   "execution_count": 44,
   "metadata": {},
   "outputs": [
    {
     "name": "stdout",
     "output_type": "stream",
     "text": [
      "before: 252\n",
      "len of good_words: 25722361\n",
      "after: 196490\n"
     ]
    }
   ],
   "source": [
    "print(\"before: \"+str(len(stop_words)))\n",
    "print(\"len of good_words: \" + str(len(good_words)))\n",
    "stop_words = stop_words + good_words\n",
    "stop_words = list(set(stop_words))\n",
    "print(\"after: \"+str(len(stop_words)))"
   ]
  },
  {
   "cell_type": "markdown",
   "metadata": {},
   "source": [
    "Looks like we've increased our stop words just a bit!"
   ]
  },
  {
   "cell_type": "markdown",
   "metadata": {},
   "source": [
    "Words have many different forms. However, we dont' want to treat these words any differently. So we need to stem and lemmatize words.\n",
    "\n",
    "i.e. stems, stemmed, stemming, stemmer all point back to the word 'stem'"
   ]
  },
  {
   "cell_type": "code",
   "execution_count": null,
   "metadata": {},
   "outputs": [],
   "source": [
    "import nltk\n",
    "from nltk.stem import PorterStemmer, WordNetLemmatizer\n",
    "#create objects for stemmer and lemmatizer\n",
    "lemmatiser = WordNetLemmatizer()\n",
    "stemmer = PorterStemmer()\n",
    "#download words from wordnet library\n",
    "nltk.download('wordnet')"
   ]
  },
  {
   "cell_type": "markdown",
   "metadata": {},
   "source": [
    "Now let's loop through our comments and apply our changes we want to make. (Punctuation removal, Split words by space, Stem, and Lemmatize)"
   ]
  },
  {
   "cell_type": "code",
   "execution_count": null,
   "metadata": {},
   "outputs": [],
   "source": [
    "for i in range(len(comments)):\n",
    "    comments[i] = comments[i].lower().translate(trantab)\n",
    "    l = []\n",
    "    for word in comments[i].split():\n",
    "        l.append(stemmer.stem(lemmatiser.lemmatize(word,pos=\"v\")))\n",
    "    comments[i] = \" \".join(l)"
   ]
  },
  {
   "cell_type": "markdown",
   "metadata": {},
   "source": [
    "All we need to do now is convert our comments into a matrix of token counts. This will count the number of times each word occurs!"
   ]
  },
  {
   "cell_type": "code",
   "execution_count": null,
   "metadata": {},
   "outputs": [],
   "source": [
    "from sklearn.feature_extraction.text import CountVectorizer\n",
    "\n",
    "#create object supplying our custom stop words\n",
    "count_vector = CountVectorizer(stop_words=stop_words)\n",
    "#fitting it to converts comments into bag of words format\n",
    "tf = count_vector.fit_transform(comments).toarray()\n",
    "print(\"So out of our \" + str(tf.shape[0]) + \" comments, we have \" + str(tf.shape[1]) + \" words from toxic comments\")"
   ]
  },
  {
   "cell_type": "markdown",
   "metadata": {},
   "source": [
    "Next, we need to give these words weight since we know that they are more likely to appear in toxic comments. We could also add words that were rated non-toxic to our stop_words array to further eliminate words that aren't toxic from our toxic word array."
   ]
  },
  {
   "cell_type": "code",
   "execution_count": null,
   "metadata": {},
   "outputs": [],
   "source": []
  },
  {
   "cell_type": "code",
   "execution_count": null,
   "metadata": {},
   "outputs": [],
   "source": []
  }
 ],
 "metadata": {
  "kernelspec": {
   "display_name": "Python 3",
   "language": "python",
   "name": "python3"
  },
  "language_info": {
   "codemirror_mode": {
    "name": "ipython",
    "version": 3
   },
   "file_extension": ".py",
   "mimetype": "text/x-python",
   "name": "python",
   "nbconvert_exporter": "python",
   "pygments_lexer": "ipython3",
   "version": "3.7.2"
  }
 },
 "nbformat": 4,
 "nbformat_minor": 2
}
